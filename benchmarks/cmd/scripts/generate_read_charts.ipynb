{
 "cells": [
  {
   "cell_type": "code",
   "execution_count": null,
   "metadata": {},
   "outputs": [],
   "source": [
    "import pandas as pd\n",
    "import matplotlib.pyplot as plt\n",
    "import re\n",
    "import os\n",
    "from io import StringIO\n",
    "\n",
    "print(os.getcwd())\n",
    "\n",
    "export_path = \"export/\"\n",
    "colors = {\n",
    "    \"softgreen\": (184 / 255, 219 / 255, 179 / 255),\n",
    "    \"forestgreen\": (114 / 255, 176 / 255, 99 / 255),\n",
    "    \"lightslateblue\": (113 / 255, 154 / 255, 172 / 255),\n",
    "    \"orangeyellow\": (226 / 255, 145 / 255, 53 / 255),\n",
    "    \"softblue\": (148 / 255, 198 / 255, 205 / 255),\n",
    "    \"deepseablue\": (74 / 255, 95 / 255, 126 / 255),\n",
    "}"
   ]
  },
  {
   "cell_type": "code",
   "execution_count": null,
   "metadata": {},
   "outputs": [],
   "source": [
    "\n",
    "def show_chart(path: str, prefix: str):\n",
    "#    读取数据\n",
    "    df = pd.read_csv(path)\n",
    "\n",
    "    # 设置图形大小\n",
    "    plt.figure(figsize=(12, 6))\n",
    "\n",
    "    # 设置柱状图的位置\n",
    "    x = range(len(df['thread']))\n",
    "    width = 0.2\n",
    "\n",
    "    # 绘制四组柱状图\n",
    "    plt.bar(x, df['cg_err'], width, label='cg_err')\n",
    "    plt.bar([i + width for i in x], df['oreo-p_err'], width, label='oreo-p_err')\n",
    "    plt.bar([i + width*2 for i in x], df['oreo-ac_err'], width, label='oreo-ac_err')\n",
    "    plt.bar([i + width*3 for i in x], df['oreo-aa_err'], width, label='oreo-aa_err')\n",
    "\n",
    "    # 设置x轴标签\n",
    "    plt.xticks([i + width*1.5 for i in x], df['thread'])\n",
    "\n",
    "    # 添加标题和标签\n",
    "    title = f\"Error Count in {prefix}\"\n",
    "    plt.title(title)\n",
    "    plt.xlabel('Thread Number')\n",
    "    plt.ylabel('Error Count')\n",
    "\n",
    "    # 添加图例\n",
    "    plt.legend()\n",
    "\n",
    "    # 显示网格\n",
    "    plt.grid(True, axis='y', linestyle='--', alpha=0.7)\n",
    "\n",
    "    plt.savefig(f\"{export_path}/{title}.png\")\n",
    "    plt.show()"
   ]
  },
  {
   "cell_type": "code",
   "execution_count": null,
   "metadata": {},
   "outputs": [],
   "source": [
    "RMW_PATH = \"../data/read/RMW_Redis,MongoDB2_benchmark_results.csv\"\n",
    "RRMW_PATH = \"../data/read/RRMW_Redis,MongoDB2_benchmark_results.csv\"\n",
    "\n",
    "show_chart(RMW_PATH, \"RMW\")\n",
    "show_chart(RRMW_PATH, \"RRMW\")"
   ]
  }
 ],
 "metadata": {
  "kernelspec": {
   "display_name": ".venv",
   "language": "python",
   "name": "python3"
  },
  "language_info": {
   "codemirror_mode": {
    "name": "ipython",
    "version": 3
   },
   "file_extension": ".py",
   "mimetype": "text/x-python",
   "name": "python",
   "nbconvert_exporter": "python",
   "pygments_lexer": "ipython3",
   "version": "3.12.7"
  }
 },
 "nbformat": 4,
 "nbformat_minor": 2
}
